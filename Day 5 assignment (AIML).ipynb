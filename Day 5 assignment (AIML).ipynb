{
 "cells": [
  {
   "cell_type": "markdown",
   "metadata": {},
   "source": [
    "### Question 1 :\n",
    "Write a Python program to find the first 20 non-even prime natural numbers"
   ]
  },
  {
   "cell_type": "code",
   "execution_count": 25,
   "metadata": {},
   "outputs": [
    {
     "name": "stdout",
     "output_type": "stream",
     "text": [
      "Prime numbers between 3 and 20 are:\n",
      "3\n",
      "5\n",
      "7\n",
      "11\n",
      "13\n",
      "17\n",
      "19\n"
     ]
    }
   ],
   "source": [
    "lower = 3\n",
    "upper = 20\n",
    "\n",
    "print(\"Prime numbers between\", lower, \"and\", upper, \"are:\")\n",
    "\n",
    "for num in range(lower, upper + 1):\n",
    "   # all prime numbers are greater than 1\n",
    "   if num > 1:\n",
    "       for i in range(2, num):\n",
    "           if (num % i) == 0:\n",
    "               break\n",
    "       else:\n",
    "           print(num)"
   ]
  },
  {
   "cell_type": "markdown",
   "metadata": {},
   "source": [
    "### Question 2 :\n",
    "Write a Python program to implement 15 functions of string."
   ]
  },
  {
   "cell_type": "code",
   "execution_count": 31,
   "metadata": {},
   "outputs": [
    {
     "name": "stdout",
     "output_type": "stream",
     "text": [
      "China\n",
      "1974\n",
      "Australia\n",
      "   \n",
      "JAPAN\n",
      "India 1974 : Convert String in lowercase: india 1974 \n",
      "\n",
      "India 1974 : Convert String in uppercase: INDIA 1974 \n",
      "\n",
      "\n",
      "Left Strip: India 1974\n",
      "\n",
      "Left Strip with Character A: merica 1974\n",
      "\n",
      "Right Strip: America 1974     \n",
      "\n",
      "Right Strip with Character a: Americ\n",
      "\n",
      "Strip from both side : America 1974\n",
      "\n",
      "Strip with Character A: merica Russia Japan China\n",
      "Strip with Character a: America Russia Japan Chin\n",
      "\n",
      "endswith check whether a string ends with a specified substring\n",
      "True\n",
      "False\n",
      "\n",
      "startswith check if a string starts with a specified substring\n",
      "True\n",
      "False\n",
      "2\n",
      "-1\n",
      "5\n",
      "-1\n",
      "0\n",
      "Hello Russia\n"
     ]
    }
   ],
   "source": [
    "def main():\n",
    "    \n",
    "    str = \"China\"\n",
    "    if str.isalnum():\n",
    "        print(str)\n",
    " \n",
    "    str = \"1974\"\n",
    "    if str.isdigit():\n",
    "        print(str)\n",
    " \n",
    "    str = \"Australia\"\n",
    "    if str.isalpha():\n",
    "        print(str)\n",
    " \n",
    "    str = \"   \"\n",
    "    if str.isspace():\n",
    "        print(str)\n",
    " \n",
    "    str = \"JAPAN\"\n",
    "    if str.isupper():\n",
    "        print(str)\n",
    " \n",
    "    str = \"Australia 1974\"\n",
    "    if str.islower():\n",
    "        print(str)\n",
    " \n",
    "    user_string = \"India 1974\"\n",
    "    toLower = user_string.lower()\n",
    "    print(user_string, ': Convert String in lowercase:', toLower, '\\n')\n",
    " \n",
    "    toUpper = user_string.upper()\n",
    "    print(user_string, ': Convert String in uppercase:', toUpper, '\\n')\n",
    " \n",
    "  \n",
    "    user_string = \"   India 1974\"\n",
    "    print('\\nLeft Strip:', user_string.lstrip())\n",
    " \n",
    "  \n",
    "    user_string = \"America 1974\"\n",
    "    print('\\nLeft Strip with Character A:', user_string.lstrip('A'))\n",
    " \n",
    "   \n",
    "    user_string = \"America 1974     \"\n",
    "    print('\\nRight Strip:', user_string.rstrip('A'))\n",
    " \n",
    " \n",
    "    user_string = \"America\"\n",
    "    print('\\nRight Strip with Character a:', user_string.rstrip('a'))\n",
    " \n",
    "    user_string = \"   America 1974    \"\n",
    "    print('\\nStrip from both side :', user_string.strip())\n",
    " \n",
    "    user_string = \"America Russia Japan China\"\n",
    "    print('\\nStrip with Character A:', user_string.strip('A'))\n",
    "    print('Strip with Character a:', user_string.strip('a'))\n",
    " \n",
    "\n",
    "    print('\\nendswith check whether a string ends with a specified substring')\n",
    "    user_string = \"Columbia\"\n",
    "    print(user_string.endswith('bia'))\n",
    "    print(user_string.endswith('mia'))\n",
    " \n",
    "\n",
    "    print('\\nstartswith check if a string starts with a specified substring')\n",
    "    user_string = \"Columbia\"\n",
    "    print(user_string.startswith('Colum'))\n",
    "    print(user_string.startswith('Rolum'))\n",
    " \n",
    "    \n",
    "    user_string = \"Columbia\"\n",
    "    print(user_string.find('lumbia'))\n",
    "    print(user_string.find('colbia'))\n",
    "    print(user_string.find('bia'))\n",
    "    print(user_string.find('col'))\n",
    "    print(user_string.find('Col'))\n",
    " \n",
    "    \n",
    "    user_string = \"Hello Columbia\"\n",
    "    old = \"Columbia\"\n",
    "    new = \"Russia\"\n",
    "    print(user_string.replace(old, new))\n",
    " \n",
    "main()"
   ]
  },
  {
   "cell_type": "markdown",
   "metadata": {},
   "source": [
    "### Question 3:\n",
    "Write a Python program to check if the given string is a Palindrome or Anagram or None of them. Display\n",
    "the message accordingly to the user."
   ]
  },
  {
   "cell_type": "code",
   "execution_count": 36,
   "metadata": {},
   "outputs": [
    {
     "name": "stdout",
     "output_type": "stream",
     "text": [
      "Yes\n",
      "No\n"
     ]
    }
   ],
   "source": [
    "NO_OF_CHARS = 256\n",
    "    \n",
    "def canFormPalindrome(string): \n",
    "\n",
    "    count = [0 for i in range(NO_OF_CHARS)] \n",
    "    \n",
    "    for i in string: \n",
    "        count[ord(i)] += 1\n",
    "    \n",
    "    odd = 0\n",
    "    for i in range(NO_OF_CHARS): \n",
    "        if (count[i] & 1): \n",
    "            odd += 1\n",
    "   \n",
    "        if (odd > 1): \n",
    "            return False\n",
    "    \n",
    "    return True\n",
    "    \n",
    "if(canFormPalindrome(\"anna\")): \n",
    "    print(\"Yes\") \n",
    "else: \n",
    "    print(\"No\") \n",
    "if(canFormPalindrome(\"marie\")): \n",
    "    print(\"Yes\") \n",
    "else: \n",
    "    print(\"No\") \n",
    "  "
   ]
  },
  {
   "cell_type": "markdown",
   "metadata": {},
   "source": [
    "### Qustion 5\n",
    "Write a Python's user-defined function that removes all the additional characters from the string and\n",
    "convert it finally to lower case using built-in lower(). eg: If the string is \"Dr. Darshan Ingle @AIML Trainer\",\n",
    "then the output be \"drdarshaningleaimltrainer\"."
   ]
  },
  {
   "cell_type": "code",
   "execution_count": 49,
   "metadata": {},
   "outputs": [
    {
     "name": "stdout",
     "output_type": "stream",
     "text": [
      "drdarshaningleaimltrainer\n"
     ]
    }
   ],
   "source": [
    "def remove(string): \n",
    "    return string.replace(\" \",\"\") \n",
    "      \n",
    "\n",
    "string = 'Dr Darshan Ingle AIML Trainer'\n",
    "print(remove(string).lower()) "
   ]
  },
  {
   "cell_type": "code",
   "execution_count": null,
   "metadata": {},
   "outputs": [],
   "source": []
  }
 ],
 "metadata": {
  "kernelspec": {
   "display_name": "Python 3",
   "language": "python",
   "name": "python3"
  },
  "language_info": {
   "codemirror_mode": {
    "name": "ipython",
    "version": 3
   },
   "file_extension": ".py",
   "mimetype": "text/x-python",
   "name": "python",
   "nbconvert_exporter": "python",
   "pygments_lexer": "ipython3",
   "version": "3.8.3"
  }
 },
 "nbformat": 4,
 "nbformat_minor": 4
}
