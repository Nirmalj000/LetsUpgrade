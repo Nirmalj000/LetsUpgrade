{
 "cells": [
  {
   "cell_type": "markdown",
   "metadata": {},
   "source": [
    "### Question 1 :\n",
    "Research on whether addition, subtraction, multiplication, division, floor division, and modulo operations\n",
    "be performed on complex numbers. Based on your study, implement a Python program to demonstrate\n",
    "these operations.\n"
   ]
  },
  {
   "cell_type": "code",
   "execution_count": 14,
   "metadata": {},
   "outputs": [
    {
     "name": "stdout",
     "output_type": "stream",
     "text": [
      "Addition is :  (3+5j)\n",
      "Subtraction is :  (1+1j)\n",
      "Multiplication is :  (-4+7j)\n",
      "Division is :  (1.6-0.2j)\n"
     ]
    }
   ],
   "source": [
    "#Addition\n",
    "def addComplex( z1, z2): \n",
    "    return z1+z2 \n",
    "z1 = complex(2, 3) \n",
    "z2 = complex(1, 2) \n",
    "print( \"Addition is : \", addComplex(z1, z2)) \n",
    "\n",
    "#Subtraction\n",
    "def subComplex( z1, z2): \n",
    "    return z1-z2 \n",
    "z1 = complex(2, 3) \n",
    "z2 = complex(1, 2) \n",
    "print( \"Subtraction is : \", subComplex(z1, z2)) \n",
    "\n",
    "#Multiplication\n",
    "def mulComplex( z1, z2): \n",
    "    return z1*z2 \n",
    "z1 = complex(2, 3) \n",
    "z2 = complex(1, 2) \n",
    "print( \"Multiplication is : \", mulComplex(z1, z2)) \n",
    "\n",
    "#Division\n",
    "def divComplex( z1, z2): \n",
    "    return z1/z2 \n",
    "z1 = complex(2, 3) \n",
    "z2 = complex(1, 2) \n",
    "print( \"Division is : \", divComplex(z1, z2)) \n",
    "\n",
    "#Floor Division\n",
    "\n",
    "#TypeError: can't take floor of complex number."
   ]
  },
  {
   "cell_type": "markdown",
   "metadata": {},
   "source": [
    "### Question 2 :\n",
    "Research on range() functions and its parameters. Create a markdown cell and write in your own words\n",
    "(no copy-paste from google please) what you understand about it. Implement a small program of your\n",
    "choice on the same."
   ]
  },
  {
   "cell_type": "markdown",
   "metadata": {},
   "source": [
    "### Range()\n",
    "\n",
    "Range() is the Python Built in Function,which helps to write the sequence of numbers.\n",
    "#### Syntax: \n",
    "range(starting point, Ending Point, incrementer)\n",
    "\n"
   ]
  },
  {
   "cell_type": "code",
   "execution_count": 21,
   "metadata": {},
   "outputs": [
    {
     "name": "stdout",
     "output_type": "stream",
     "text": [
      "10\n",
      "8\n",
      "6\n",
      "4\n",
      "2\n"
     ]
    }
   ],
   "source": [
    "for i in range(10,0,-2):\n",
    "    print(i)"
   ]
  },
  {
   "cell_type": "code",
   "execution_count": 19,
   "metadata": {},
   "outputs": [
    {
     "name": "stdout",
     "output_type": "stream",
     "text": [
      "vijay\n",
      "sujay\n",
      "Digvijay\n",
      "jay\n"
     ]
    }
   ],
   "source": [
    "names = ['Ajay', 'vijay', 'sujay', 'Digvijay', 'jay']\n",
    "for i in range(1, len(names)):\n",
    "    print(names[i])"
   ]
  },
  {
   "cell_type": "markdown",
   "metadata": {},
   "source": [
    "### Question 3:\n",
    "Consider two numbers. Perform their subtraction and if the result of subtraction is greater than 25, print\n",
    "their multiplication result else print their division result"
   ]
  },
  {
   "cell_type": "code",
   "execution_count": 40,
   "metadata": {},
   "outputs": [
    {
     "name": "stdout",
     "output_type": "stream",
     "text": [
      "Enter number for a :40\n",
      "Enter number for b :10\n",
      "400\n"
     ]
    }
   ],
   "source": [
    "num1 = input(\"Enter number for a :\") \n",
    "a=int(num1)\n",
    "num2 = input(\"Enter number for b :\") \n",
    "b=int(num2)\n",
    "\n",
    "if a-b>25:\n",
    "    print(a*b)\n",
    "else:\n",
    "    print(a/b)\n",
    "    "
   ]
  },
  {
   "cell_type": "markdown",
   "metadata": {},
   "source": [
    "### Question 4:\n",
    "Consider a list of 10 elements of integer values. If the number in the list is divisible by 2, print the result as\n",
    "\"square of that number minus 2\"."
   ]
  },
  {
   "cell_type": "code",
   "execution_count": 55,
   "metadata": {},
   "outputs": [
    {
     "name": "stdout",
     "output_type": "stream",
     "text": [
      "Its odd\n",
      "square of that number minus 2\n",
      "Its odd\n",
      "square of that number minus 2\n",
      "Its odd\n",
      "square of that number minus 2\n",
      "Its odd\n",
      "square of that number minus 2\n",
      "Its odd\n",
      "square of that number minus 2\n"
     ]
    }
   ],
   "source": [
    "l = [1,2,3,4,5,6,7,8,9,10]\n",
    "for i in range(0,10):\n",
    "    if l[i]%2==0:\n",
    "        print(\"square of that number minus 2\")\n",
    "    else:\n",
    "        print(\"Its odd\")"
   ]
  },
  {
   "cell_type": "markdown",
   "metadata": {},
   "source": [
    "### Question 5:\n",
    "Consider a list of 10 elements. Print all the elements in the list which are greater than 7 when that number\n",
    "is divided 2."
   ]
  },
  {
   "cell_type": "code",
   "execution_count": 58,
   "metadata": {},
   "outputs": [
    {
     "name": "stdout",
     "output_type": "stream",
     "text": [
      "15\n",
      "16\n",
      "17\n",
      "18\n",
      "19\n",
      "20\n"
     ]
    }
   ],
   "source": [
    "l = [11,12,13,14,15,16,17,18,19,20]\n",
    "for i in range(0,10):\n",
    "    if l[i]/2>7:\n",
    "        print(l[i])"
   ]
  },
  {
   "cell_type": "code",
   "execution_count": null,
   "metadata": {},
   "outputs": [],
   "source": []
  }
 ],
 "metadata": {
  "kernelspec": {
   "display_name": "Python 3",
   "language": "python",
   "name": "python3"
  },
  "language_info": {
   "codemirror_mode": {
    "name": "ipython",
    "version": 3
   },
   "file_extension": ".py",
   "mimetype": "text/x-python",
   "name": "python",
   "nbconvert_exporter": "python",
   "pygments_lexer": "ipython3",
   "version": "3.8.3"
  }
 },
 "nbformat": 4,
 "nbformat_minor": 4
}
